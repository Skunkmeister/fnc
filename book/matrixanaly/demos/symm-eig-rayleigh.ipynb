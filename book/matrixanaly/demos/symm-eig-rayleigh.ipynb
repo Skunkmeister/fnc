{
 "cells": [
  {
   "cell_type": "markdown",
   "metadata": {},
   "source": [
    "# Rayleigh quotient"
   ]
  },
  {
   "cell_type": "code",
   "execution_count": 1,
   "metadata": {},
   "outputs": [],
   "source": [
    "using FundamentalsNumericalComputation"
   ]
  },
  {
   "cell_type": "markdown",
   "metadata": {},
   "source": [
    "We will use a symmetric matrix with a known EVD."
   ]
  },
  {
   "cell_type": "code",
   "execution_count": 2,
   "metadata": {},
   "outputs": [],
   "source": [
    "n = 20;\n",
    "λ = 1:n \n",
    "D = diagm(λ)\n",
    "V,_ = qr(randn(n,n))   # get a random orthogonal V\n",
    "A = V*D*V';"
   ]
  },
  {
   "cell_type": "markdown",
   "metadata": {},
   "source": [
    "The Rayleigh quotient is a scalar-valued function of a vector."
   ]
  },
  {
   "cell_type": "code",
   "execution_count": 3,
   "metadata": {},
   "outputs": [],
   "source": [
    "R = x -> (x'*A*x)/(x'*x);"
   ]
  },
  {
   "cell_type": "markdown",
   "metadata": {},
   "source": [
    "The Rayleigh quotient evaulated at an eigenvector gives the corresponding eigenvalue."
   ]
  },
  {
   "cell_type": "code",
   "execution_count": 4,
   "metadata": {},
   "outputs": [
    {
     "data": {
      "text/plain": [
       "6.999999999999998"
      ]
     },
     "execution_count": 4,
     "metadata": {},
     "output_type": "execute_result"
    }
   ],
   "source": [
    "R(V[:,7])"
   ]
  },
  {
   "cell_type": "markdown",
   "metadata": {},
   "source": [
    "If the input to he Rayleigh quotient is within a small $\\delta$ of an eigenvector, its output is within $)(\\delta^2)$ of the corresponding eigenvalue. In this experiment, we observe that each additional digit of accuracy in an approximate eigenvector gives two more digits to the eigenvalue estimate coming from the Rayleigh quotient."
   ]
  },
  {
   "cell_type": "code",
   "execution_count": 5,
   "metadata": {},
   "outputs": [
    {
     "name": "stdout",
     "output_type": "stream",
     "text": [
      "┌──────────────┬───────────────────────┬────────────────┐\n",
      "│\u001b[1m perturbation \u001b[0m│\u001b[1m eigenvalue_difference \u001b[0m│\u001b[1m log_difference \u001b[0m│\n",
      "├──────────────┼───────────────────────┼────────────────┤\n",
      "│          0.1 │             0.0109348 │       -1.96119 │\n",
      "│         0.01 │            0.00010694 │       -3.97086 │\n",
      "│        0.001 │            1.26414e-6 │        -5.8982 │\n",
      "│       0.0001 │             4.4968e-8 │        -7.3471 │\n",
      "│       1.0e-5 │            3.5895e-10 │       -9.44497 │\n",
      "└──────────────┴───────────────────────┴────────────────┘\n"
     ]
    }
   ],
   "source": [
    "δ = @. 1 ./10^(1:5)\n",
    "eval_diff = zeros(size(δ))\n",
    "for (k,delta) = enumerate(δ)\n",
    "    e = randn(n);  e = delta*e/norm(e);\n",
    "    x = V[:,7] + e\n",
    "    eval_diff[k] = R(x) - 7\n",
    "end\n",
    "pretty_table( (perturbation=δ,eigenvalue_difference=eval_diff,log_difference=@. log10(abs(eval_diff))), \n",
    "    nosubheader=true )"
   ]
  }
 ],
 "metadata": {
  "kernelspec": {
   "display_name": "Julia 1.6.0-rc1",
   "language": "julia",
   "name": "julia-1.6"
  },
  "language_info": {
   "file_extension": ".jl",
   "mimetype": "application/julia",
   "name": "julia",
   "version": "1.6.0"
  }
 },
 "nbformat": 4,
 "nbformat_minor": 4
}
