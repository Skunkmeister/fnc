{
 "cells": [
  {
   "cell_type": "markdown",
   "metadata": {},
   "source": [
    "# Perturbations of normal matrices"
   ]
  },
  {
   "cell_type": "code",
   "execution_count": 1,
   "metadata": {},
   "outputs": [],
   "source": [
    "using FundamentalsNumericalComputation"
   ]
  },
  {
   "cell_type": "markdown",
   "metadata": {},
   "source": [
    "We construct a real symmetric matrix with known eigenvalues by using the QR factorization to produce a random orthogonal set of eigenvectors."
   ]
  },
  {
   "cell_type": "code",
   "execution_count": 2,
   "metadata": {},
   "outputs": [
    {
     "data": {
      "text/plain": [
       "1.8872119479312477e-13"
      ]
     },
     "execution_count": 2,
     "metadata": {},
     "output_type": "execute_result"
    }
   ],
   "source": [
    "n = 30\n",
    "λ = 1:n\n",
    "D = diagm(λ)\n",
    "V,_ = qr(randn(n,n))   # get a random orthogonal V\n",
    "A = V*D*V';\n",
    "norm( eigvals(A) - λ ) # check that the eigenvalues are preserved"
   ]
  },
  {
   "cell_type": "markdown",
   "metadata": {},
   "source": [
    "The condition number of these eigenvalues is one. Thus the effect on them is bounded by the norm of the perturbation to $\\mathbf{A}$, which in this experiment we set at $10^{-4}$."
   ]
  },
  {
   "cell_type": "code",
   "execution_count": 3,
   "metadata": {},
   "outputs": [
    {
     "name": "stdout",
     "output_type": "stream",
     "text": [
      "max_change = norm(μ - λ, Inf) = 1.5138869832398427e-5\n",
      "max_change = norm(μ - λ, Inf) = 2.283437586036996e-5\n",
      "max_change = norm(μ - λ, Inf) = 2.4135427448612745e-5\n"
     ]
    }
   ],
   "source": [
    "for k = 1:3\n",
    "    E = randn(n,n); E = 1e-4*E/opnorm(E);\n",
    "    μ = eigvals(A+E)\n",
    "    @show max_change = norm(μ-λ,Inf)\n",
    "end"
   ]
  }
 ],
 "metadata": {
  "kernelspec": {
   "display_name": "Julia 1.6.0-rc1",
   "language": "julia",
   "name": "julia-1.6"
  },
  "language_info": {
   "file_extension": ".jl",
   "mimetype": "application/julia",
   "name": "julia",
   "version": "1.6.0"
  }
 },
 "nbformat": 4,
 "nbformat_minor": 4
}
