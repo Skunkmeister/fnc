{
 "cells": [
  {
   "cell_type": "markdown",
   "metadata": {},
   "source": [
    "# Francis QR iteration"
   ]
  },
  {
   "cell_type": "code",
   "execution_count": 1,
   "metadata": {},
   "outputs": [],
   "source": [
    "using FundamentalsNumericalComputation"
   ]
  },
  {
   "cell_type": "markdown",
   "metadata": {},
   "source": [
    "Let's start with a known set of eigenvalues and an orthogonal eigenvector basis."
   ]
  },
  {
   "cell_type": "code",
   "execution_count": 6,
   "metadata": {},
   "outputs": [
    {
     "data": {
      "text/plain": [
       "5×5 Matrix{Float64}:\n",
       "  1.40356    -0.98758    0.558546  -1.22913   -0.0559028\n",
       " -0.98758    -0.496852  -0.857951  -4.01188    3.42407\n",
       "  0.558546   -0.857951   2.29512    1.12901    1.83792\n",
       " -1.22913    -4.01188    1.12901   -0.510817   0.511237\n",
       " -0.0559028   3.42407    1.83792    0.511237   1.30899"
      ]
     },
     "execution_count": 6,
     "metadata": {},
     "output_type": "execute_result"
    }
   ],
   "source": [
    "D = diagm( [-6,-1,2,4,5] )\n",
    "V,R = qr(randn(5,5))\n",
    "A = V*D*V'    # note that V' = inv(V)"
   ]
  },
  {
   "cell_type": "code",
   "execution_count": 7,
   "metadata": {},
   "outputs": [
    {
     "data": {
      "text/plain": [
       "5-element Vector{Float64}:\n",
       " -6.000000000000003\n",
       " -1.0000000000000007\n",
       "  2.0\n",
       "  3.9999999999999982\n",
       "  5.0"
      ]
     },
     "execution_count": 7,
     "metadata": {},
     "output_type": "execute_result"
    }
   ],
   "source": [
    "eigvals(A)"
   ]
  },
  {
   "cell_type": "markdown",
   "metadata": {},
   "source": [
    "Now we will take the QR factorization and just reverse the factors."
   ]
  },
  {
   "cell_type": "code",
   "execution_count": 8,
   "metadata": {},
   "outputs": [],
   "source": [
    "Q,R = qr(A)\n",
    "A = R*Q;"
   ]
  },
  {
   "cell_type": "markdown",
   "metadata": {},
   "source": [
    "It turns out that this is a similarity transformation, so the eigenvalues are unchanged."
   ]
  },
  {
   "cell_type": "code",
   "execution_count": 9,
   "metadata": {},
   "outputs": [
    {
     "data": {
      "text/plain": [
       "5-element Vector{Float64}:\n",
       " -6.000000000000011\n",
       " -1.0000000000000018\n",
       "  1.9999999999999984\n",
       "  3.999999999999997\n",
       "  5.0"
      ]
     },
     "execution_count": 9,
     "metadata": {},
     "output_type": "execute_result"
    }
   ],
   "source": [
    "eigvals(A)"
   ]
  },
  {
   "cell_type": "markdown",
   "metadata": {},
   "source": [
    "What's remarkable, and not elementary, is that if we repeat this transformation many times, the resulting matrix converges to $\\mathbf{D}$."
   ]
  },
  {
   "cell_type": "code",
   "execution_count": 10,
   "metadata": {},
   "outputs": [
    {
     "data": {
      "text/plain": [
       "5×5 Matrix{Float64}:\n",
       " -6.0           0.00177125   -8.53904e-8   -1.68978e-15  -8.89668e-16\n",
       "  0.00177125    5.0           3.40088e-5   -3.90115e-16   1.61825e-15\n",
       " -8.53904e-8    3.40088e-5    4.0          -2.81289e-13   7.65776e-16\n",
       "  7.83934e-19  -5.92799e-16  -2.8025e-13    2.0           2.94591e-13\n",
       "  7.01985e-33   1.63377e-28   9.18179e-25   2.95727e-13  -1.0"
      ]
     },
     "execution_count": 10,
     "metadata": {},
     "output_type": "execute_result"
    }
   ],
   "source": [
    "for k = 1:40\n",
    "    Q,R = qr(A)\n",
    "    A = R*Q\n",
    "end\n",
    "A"
   ]
  }
 ],
 "metadata": {
  "kernelspec": {
   "display_name": "Julia 1.6.0-rc1",
   "language": "julia",
   "name": "julia-1.6"
  },
  "language_info": {
   "file_extension": ".jl",
   "mimetype": "application/julia",
   "name": "julia",
   "version": "1.6.0"
  }
 },
 "nbformat": 4,
 "nbformat_minor": 4
}
