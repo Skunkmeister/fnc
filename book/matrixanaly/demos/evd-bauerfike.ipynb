{
 "cells": [
  {
   "cell_type": "markdown",
   "metadata": {},
   "source": [
    "# The Bauer-Fike Theorem"
   ]
  },
  {
   "cell_type": "code",
   "execution_count": 1,
   "metadata": {},
   "outputs": [],
   "source": [
    "using FundamentalsNumericalComputation"
   ]
  },
  {
   "cell_type": "markdown",
   "metadata": {},
   "source": [
    "We will confirm the Bauer-Fike theorem on a triangular matrix. These tend to be far from normal. "
   ]
  },
  {
   "cell_type": "code",
   "execution_count": 2,
   "metadata": {},
   "outputs": [
    {
     "data": {
      "text/plain": [
       "5×5 Matrix{Int64}:\n",
       " 1  1  1  1  1\n",
       " 0  2  2  2  2\n",
       " 0  0  3  3  3\n",
       " 0  0  0  4  4\n",
       " 0  0  0  0  5"
      ]
     },
     "execution_count": 2,
     "metadata": {},
     "output_type": "execute_result"
    }
   ],
   "source": [
    "n = 15;\n",
    "x = 1:n\n",
    "A = triu( repeat(x,outer=(1,n)) )\n",
    "A[1:5,1:5]"
   ]
  },
  {
   "cell_type": "markdown",
   "metadata": {},
   "source": [
    "The Bauer-Fike theorem provides an upper bound on the condition number of these eigenvalues, based on the condition number of the eigenvector matrix."
   ]
  },
  {
   "cell_type": "code",
   "execution_count": 3,
   "metadata": {},
   "outputs": [
    {
     "name": "stdout",
     "output_type": "stream",
     "text": [
      "cond(V) = 1.1970591642879637e7\n"
     ]
    }
   ],
   "source": [
    "λ,V = eigen(A)\n",
    "@show cond(V);"
   ]
  },
  {
   "cell_type": "markdown",
   "metadata": {},
   "source": [
    "The theorem suggests that eigenvalue changes may be up to 7 orders of magnitude larger than a perturbation to the matrix. A few random experiments show that effects of nearly that size are not hard to observe."
   ]
  },
  {
   "cell_type": "code",
   "execution_count": 4,
   "metadata": {},
   "outputs": [
    {
     "name": "stdout",
     "output_type": "stream",
     "text": [
      "max_change = norm(sort(μ) - sort(λ), Inf) = 0.006734600560919901\n",
      "max_change = norm(sort(μ) - sort(λ), Inf) = 0.09477608078305622\n",
      "max_change = norm(sort(μ) - sort(λ), Inf) = 0.021396941600396957\n"
     ]
    }
   ],
   "source": [
    "for k in 1:3\n",
    "    E = randn(n,n)\n",
    "    E = 1e-7*E/opnorm(E)  # so that λ perturbation is less than 1\n",
    "    μ = eigvals(A+E)\n",
    "    @show max_change = norm( sort(μ)-sort(λ), Inf )\n",
    "end"
   ]
  }
 ],
 "metadata": {
  "kernelspec": {
   "display_name": "Julia 1.6.0-rc1",
   "language": "julia",
   "name": "julia-1.6"
  },
  "language_info": {
   "file_extension": ".jl",
   "mimetype": "application/julia",
   "name": "julia",
   "version": "1.6.0"
  }
 },
 "nbformat": 4,
 "nbformat_minor": 4
}
