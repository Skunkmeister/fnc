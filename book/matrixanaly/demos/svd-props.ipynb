{
 "cells": [
  {
   "cell_type": "markdown",
   "metadata": {},
   "source": [
    "# SVD properties"
   ]
  },
  {
   "cell_type": "code",
   "execution_count": 1,
   "metadata": {},
   "outputs": [],
   "source": [
    "using FundamentalsNumericalComputation"
   ]
  },
  {
   "cell_type": "markdown",
   "metadata": {},
   "source": [
    "We verify some of the fundamental SVD properties using standard Julia functions from `LinearAlgebra`."
   ]
  },
  {
   "cell_type": "code",
   "execution_count": 2,
   "metadata": {},
   "outputs": [
    {
     "data": {
      "text/plain": [
       "5×4 Matrix{Int64}:\n",
       " 1  1   1    1\n",
       " 1  2   4    8\n",
       " 1  3   9   27\n",
       " 1  4  16   64\n",
       " 1  5  25  125"
      ]
     },
     "execution_count": 2,
     "metadata": {},
     "output_type": "execute_result"
    }
   ],
   "source": [
    "A = [i^j for i=1:5, j=0:3]"
   ]
  },
  {
   "cell_type": "markdown",
   "metadata": {},
   "source": [
    "To get only the singular values, use `svdvals`."
   ]
  },
  {
   "cell_type": "code",
   "execution_count": 3,
   "metadata": {},
   "outputs": [
    {
     "data": {
      "text/plain": [
       "4-element Vector{Float64}:\n",
       " 146.69715365883005\n",
       "   5.738569780953698\n",
       "   0.9998486640841032\n",
       "   0.119280826852421"
      ]
     },
     "execution_count": 3,
     "metadata": {},
     "output_type": "execute_result"
    }
   ],
   "source": [
    "σ = svdvals(A)"
   ]
  },
  {
   "cell_type": "markdown",
   "metadata": {},
   "source": [
    "Here is verification of the connections between the singular values, norm, and condition number."
   ]
  },
  {
   "cell_type": "code",
   "execution_count": 4,
   "metadata": {},
   "outputs": [
    {
     "name": "stdout",
     "output_type": "stream",
     "text": [
      "(opnorm(A, 2), σ[1]) = (146.69715365883005, 146.69715365883005)\n"
     ]
    },
    {
     "data": {
      "text/plain": [
       "(146.69715365883005, 146.69715365883005)"
      ]
     },
     "execution_count": 4,
     "metadata": {},
     "output_type": "execute_result"
    }
   ],
   "source": [
    "@show (opnorm(A,2),σ[1])"
   ]
  },
  {
   "cell_type": "code",
   "execution_count": 5,
   "metadata": {},
   "outputs": [
    {
     "name": "stdout",
     "output_type": "stream",
     "text": [
      "(cond(A, 2), σ[1] / σ[end]) = (1229.8468876337488, 1229.8468876337488)\n"
     ]
    },
    {
     "data": {
      "text/plain": [
       "(1229.8468876337488, 1229.8468876337488)"
      ]
     },
     "execution_count": 5,
     "metadata": {},
     "output_type": "execute_result"
    }
   ],
   "source": [
    "@show (cond(A,2),σ[1]/σ[end])"
   ]
  },
  {
   "cell_type": "markdown",
   "metadata": {},
   "source": [
    "To get singular vectors as well, use `svd`. The thin form of the factorization is the default."
   ]
  },
  {
   "cell_type": "code",
   "execution_count": 6,
   "metadata": {},
   "outputs": [
    {
     "name": "stdout",
     "output_type": "stream",
     "text": [
      "size(U) = (5, 4)\n",
      "size(V) = (4, 4)\n"
     ]
    }
   ],
   "source": [
    "U,σ,V = svd(A);\n",
    "@show size(U);\n",
    "@show size(V);"
   ]
  },
  {
   "cell_type": "markdown",
   "metadata": {},
   "source": [
    "We verify the orthogonality of the singular vectors as follows:"
   ]
  },
  {
   "cell_type": "code",
   "execution_count": 7,
   "metadata": {},
   "outputs": [
    {
     "name": "stdout",
     "output_type": "stream",
     "text": [
      "opnorm(U' * U - I) = 1.3502036581898522e-15\n",
      "opnorm(V' * V - I) = 7.993056481202561e-16\n"
     ]
    }
   ],
   "source": [
    "@show opnorm(U'*U - I);\n",
    "@show opnorm(V'*V - I);"
   ]
  }
 ],
 "metadata": {
  "kernelspec": {
   "display_name": "Julia 1.6.0-rc1",
   "language": "julia",
   "name": "julia-1.6"
  },
  "language_info": {
   "file_extension": ".jl",
   "mimetype": "application/julia",
   "name": "julia",
   "version": "1.6.0"
  }
 },
 "nbformat": 4,
 "nbformat_minor": 4
}
