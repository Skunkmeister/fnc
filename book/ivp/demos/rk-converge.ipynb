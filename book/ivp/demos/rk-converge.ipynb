{
 "cells": [
  {
   "cell_type": "markdown",
   "metadata": {},
   "source": [
    "# Convergence of RK methods\n",
    "\n",
    "We consider the IVP $u'=\\sin[(u+t)^2]$ over $0\\le t \\le 4$, with $u(0)=-1$."
   ]
  },
  {
   "cell_type": "code",
   "execution_count": 1,
   "metadata": {},
   "outputs": [
    {
     "name": "stderr",
     "output_type": "stream",
     "text": [
      "┌ Info: Precompiling FundamentalsNumericalComputation [e48b7b93-d2a8-4750-aba7-f743ccd5256c]\n",
      "└ @ Base loading.jl:1313\n",
      "\u001b[36m\u001b[1m[ \u001b[22m\u001b[39m\u001b[36m\u001b[1mInfo: \u001b[22m\u001b[39mExporting: LinearAlgebra,SparseArrays,Polynomials,NLsolve,Interpolations,OrdinaryDiffEq,PrettyTables,Plots\n"
     ]
    }
   ],
   "source": [
    "using FundamentalsNumericalComputation"
   ]
  },
  {
   "cell_type": "code",
   "execution_count": 2,
   "metadata": {},
   "outputs": [
    {
     "data": {
      "text/plain": [
       "\u001b[36mODEProblem\u001b[0m with uType \u001b[36mFloat64\u001b[0m and tType \u001b[36mFloat64\u001b[0m. In-place: \u001b[36mfalse\u001b[0m\n",
       "timespan: (0.0, 4.0)\n",
       "u0: -1.0"
      ]
     },
     "execution_count": 2,
     "metadata": {},
     "output_type": "execute_result"
    }
   ],
   "source": [
    "f = (u,p,t) -> sin((t+u)^2)\n",
    "tspan = (0.0,4.0)\n",
    "u0 = -1.0\n",
    "\n",
    "ivp = ODEProblem(f,u0,tspan)"
   ]
  },
  {
   "cell_type": "markdown",
   "metadata": {},
   "source": [
    "We use a `DifferentialEquations` solver to construct an accurate approximation to the exact solution."
   ]
  },
  {
   "cell_type": "code",
   "execution_count": 3,
   "metadata": {},
   "outputs": [],
   "source": [
    "u_exact = solve(ivp,Tsit5(),reltol=1e-14,abstol=1e-14);"
   ]
  },
  {
   "cell_type": "markdown",
   "metadata": {},
   "source": [
    "Now we perform a convergence study of our two Runge--Kutta implementations."
   ]
  },
  {
   "cell_type": "code",
   "execution_count": 4,
   "metadata": {},
   "outputs": [
    {
     "data": {
      "text/html": [
       "<!DOCTYPE html>\n",
       "<html>\n",
       "<meta charset=\"UTF-8\">\n",
       "<style>\n",
       "  table, td, th {\n",
       "      border-collapse: collapse;\n",
       "      font-family: sans-serif;\n",
       "  }\n",
       "\n",
       "  td, th {\n",
       "      border-bottom: 0;\n",
       "      padding: 4px\n",
       "  }\n",
       "\n",
       "  tr:nth-child(odd) {\n",
       "      background: #eee;\n",
       "  }\n",
       "\n",
       "  tr:nth-child(even) {\n",
       "      background: #fff;\n",
       "  }\n",
       "\n",
       "  tr.header {\n",
       "      background: navy !important;\n",
       "      color: white;\n",
       "      font-weight: bold;\n",
       "  }\n",
       "\n",
       "  tr.subheader {\n",
       "      background: lightgray !important;\n",
       "      color: black;\n",
       "  }\n",
       "\n",
       "  tr.headerLastRow {\n",
       "      border-bottom: 2px solid black;\n",
       "  }\n",
       "\n",
       "  th.rowNumber, td.rowNumber {\n",
       "      text-align: right;\n",
       "  }\n",
       "\n",
       "</style>\n",
       "<body>\n",
       "<table>\n",
       "  <tr class = \"header headerLastRow\">\n",
       "    <th style = \"text-align: right;\">n</th>\n",
       "    <th style = \"text-align: right;\">error in IE2</th>\n",
       "    <th style = \"text-align: right;\">error in RK4</th>\n",
       "  </tr>\n",
       "  <tr>\n",
       "    <td style = \"text-align: right;\">50</td>\n",
       "    <td style = \"text-align: right;\">0.00353784</td>\n",
       "    <td style = \"text-align: right;\">2.07232e-5</td>\n",
       "  </tr>\n",
       "  <tr>\n",
       "    <td style = \"text-align: right;\">100</td>\n",
       "    <td style = \"text-align: right;\">0.000891415</td>\n",
       "    <td style = \"text-align: right;\">1.2444e-6</td>\n",
       "  </tr>\n",
       "  <tr>\n",
       "    <td style = \"text-align: right;\">200</td>\n",
       "    <td style = \"text-align: right;\">0.000222419</td>\n",
       "    <td style = \"text-align: right;\">7.60655e-8</td>\n",
       "  </tr>\n",
       "  <tr>\n",
       "    <td style = \"text-align: right;\">400</td>\n",
       "    <td style = \"text-align: right;\">5.55659e-5</td>\n",
       "    <td style = \"text-align: right;\">4.70222e-9</td>\n",
       "  </tr>\n",
       "  <tr>\n",
       "    <td style = \"text-align: right;\">800</td>\n",
       "    <td style = \"text-align: right;\">1.38876e-5</td>\n",
       "    <td style = \"text-align: right;\">2.92183e-10</td>\n",
       "  </tr>\n",
       "  <tr>\n",
       "    <td style = \"text-align: right;\">1600</td>\n",
       "    <td style = \"text-align: right;\">3.47159e-6</td>\n",
       "    <td style = \"text-align: right;\">1.82096e-11</td>\n",
       "  </tr>\n",
       "</table>\n",
       "</body>\n",
       "</html>\n"
      ]
     },
     "metadata": {},
     "output_type": "display_data"
    }
   ],
   "source": [
    "n = @. 50*2^(0:5)\n",
    "err_IE2 = zeros(size(n))\n",
    "err_RK4 = zeros(size(n))\n",
    "for (j,n) = enumerate(n)\n",
    "    t,u = FNC.ie2(ivp,n)\n",
    "    err_IE2[j] = maximum( @.abs(u_exact(t)-u) )\n",
    "    t,u = FNC.rk4(ivp,n)\n",
    "    err_RK4[j] = maximum( @.abs(u_exact(t)-u) )\n",
    "end\n",
    "\n",
    "pretty_table((n=n,e2=err_IE2,e4=err_RK4),[\"n\",\"error in IE2\",\"error in RK4\"],backend=:html)"
   ]
  },
  {
   "cell_type": "markdown",
   "metadata": {},
   "source": [
    "The amount of computational work at each time step is assumed to be proportional to the number of stages. Let's compare on an apples-to-apples basis by using the number of $f$-evaluations on the horizontal axis."
   ]
  },
  {
   "cell_type": "code",
   "execution_count": 5,
   "metadata": {},
   "outputs": [
    {
     "ename": "LoadError",
     "evalue": "ArgumentError: Package Plots not found in current path:\n- Run `import Pkg; Pkg.add(\"Plots\")` to install the Plots package.\n",
     "output_type": "error",
     "traceback": [
      "ArgumentError: Package Plots not found in current path:\n- Run `import Pkg; Pkg.add(\"Plots\")` to install the Plots package.\n",
      "",
      "Stacktrace:",
      " [1] require(into::Module, mod::Symbol)",
      "   @ Base ./loading.jl:867",
      " [2] eval",
      "   @ ./boot.jl:360 [inlined]",
      " [3] include_string(mapexpr::typeof(REPL.softscope), mod::Module, code::String, filename::String)",
      "   @ Base ./loading.jl:1090"
     ]
    }
   ],
   "source": [
    "plot([2n 4n],[err_IE2 err_RK4],m=:o,label=[\"IE2\" \"RK4\"],\n",
    "    xaxis=(:log10,\"f-evaluations\"),yaxis=(:log10,\"inf-norm error\"),\n",
    "    title=\"Convergence of RK methods\",leg=:bottomleft)\n",
    "\n",
    "plot!(2n,0.01*(n/n[1]).^(-2),l=:dash,label=\"2nd order\")\n",
    "plot!(4n,1e-6*(n/n[1]).^(-4),l=:dash,label=\"4th order\")"
   ]
  },
  {
   "cell_type": "markdown",
   "metadata": {},
   "source": [
    "The fourth-order variant is more efficient in this problem over a wide range of accuracy."
   ]
  }
 ],
 "metadata": {
  "kernelspec": {
   "display_name": "Julia 1.6.0-rc1",
   "language": "julia",
   "name": "julia-1.6"
  },
  "language_info": {
   "file_extension": ".jl",
   "mimetype": "application/julia",
   "name": "julia",
   "version": "1.6.0"
  }
 },
 "nbformat": 4,
 "nbformat_minor": 4
}
