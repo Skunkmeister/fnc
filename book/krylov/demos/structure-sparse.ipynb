{
 "cells": [
  {
   "cell_type": "markdown",
   "metadata": {},
   "source": [
    "# Sparse matrices"
   ]
  },
  {
   "cell_type": "code",
   "execution_count": 1,
   "metadata": {},
   "outputs": [],
   "source": [
    "using FundamentalsNumericalComputation"
   ]
  },
  {
   "cell_type": "markdown",
   "metadata": {},
   "source": [
    "Here we load the adjacency matrix of a graph with 2790 nodes. Each node is a web page referring to Roswell, NM, and the edges represent links between web pages."
   ]
  },
  {
   "cell_type": "code",
   "execution_count": 2,
   "metadata": {},
   "outputs": [
    {
     "data": {
      "text/plain": [
       "2790×2790 SparseMatrixCSC{Float64, Int32} with 8487 stored entries:\n",
       "⣷⣵⢬⠄⠈⠵⠵⠉⠀⠹⠰⣖⣲⠒⠒⠒⠢⡒⠒⢲⠂⠒⠢⠤⣤⡤⡤⠤⠤⠤⣀⣀⣀⠀⠀⠀⠀⠀⠀⠀\n",
       "⣯⣷⣶⡁⡊⡀⢆⠀⠀⢀⢀⠍⡀⠠⢀⠀⠀⠀⠀⣈⡀⣀⡈⡄⢠⡂⣈⢈⡀⠀⠇⣦⠈⣉⠍⡅⠇⡏⠛⢒\n",
       "⣿⣟⡇⠀⠰⠇⠆⠀⠀⠨⠹⠝⠳⠷⠸⠳⠠⠅⠀⡇⡇⡏⠁⢏⠀⠁⠀⣿⣿⠀⠀⢏⠄⠈⠀⠀⠀⠀⠆⠀\n",
       "⣿⣿⡇⠀⠁⠁⠕⡄⠀⠘⠢⢰⠁⠿⠮⠦⠂⠆⠀⢓⠁⠂⠉⠄⢀⠚⠀⠀⠇⠀⠁⠆⠀⠠⡇⠂⠁⠄⠍⠃\n",
       "⣿⣶⣗⣀⢠⠆⣶⠀⠰⢼⢔⠲⡀⠶⠸⠐⠀⠂⠀⢆⡆⠲⠆⠇⡖⡆⠒⠥⡦⠀⠠⡲⠀⠀⠄⠄⠆⠄⣐⠀\n",
       "⣿⡿⡗⠉⠐⡃⡫⠀⠀⠸⠟⣾⣓⣈⢹⠍⠓⠀⠀⡕⠇⠄⠀⠇⢑⠌⠁⣬⣯⠁⠄⠿⠀⠱⠇⠆⠀⠀⠡⠂\n",
       "⠶⠶⠂⠀⠀⠀⠆⠀⠀⠀⠒⠸⠗⢔⠄⢂⠀⠂⠀⠐⠂⠀⢂⠀⠰⠀⠀⠐⠖⠀⠀⢀⠠⠂⠀⠀⠀⠂⠀⠀\n",
       "⠀⠲⠆⠀⠀⠀⠆⠀⠀⠀⠀⠁⠀⡿⢻⢞⠂⠇⠀⠀⠀⠀⢀⠀⠀⠀⠀⠀⠀⠀⠀⠀⠀⠀⠀⠀⠄⠀⠄⠐\n",
       "⣾⡾⠆⠒⠀⠀⠆⡀⠀⠀⠀⠐⠀⠻⢛⠛⠓⣦⡀⠞⠆⠀⠀⠄⠂⠀⠀⠐⠗⠀⠀⠀⡀⠔⠆⠀⠀⡂⠀⠀\n",
       "⣼⣦⣄⠀⠀⠄⡤⠀⠀⠠⠀⣈⣄⣠⢸⠀⠀⡘⠣⢤⡄⣠⠄⢄⠤⠀⠠⢀⣦⠀⠀⠠⣀⣀⡄⠄⠄⠄⡀⠀\n",
       "⣾⣯⡃⠀⠀⡀⡣⠀⠀⢰⠨⢠⡇⡛⢺⢂⠀⡀⠀⣀⡇⣅⠀⠀⡈⠒⠀⢘⣇⠀⡀⣆⠀⣈⡀⡀⡀⡁⢃⠀\n",
       "⣿⡯⠕⡀⢀⠈⢁⠀⠀⠨⢀⢐⠁⣈⢉⣀⠀⡀⠀⣀⡁⡑⠩⣆⠈⠀⠁⣙⣉⠁⠀⠐⠀⢠⠀⠀⠀⡇⠀⠀\n",
       "⡭⣭⡅⠅⠀⠀⢍⠀⠀⠨⢀⠁⠀⠩⢉⠉⠁⠀⠀⠀⠄⠥⠄⠀⡿⣇⠠⠈⠥⠀⠀⢉⠁⠄⡅⡀⠀⠅⠀⠁\n",
       "⣎⠟⠇⠀⠢⡆⡂⠀⠀⠐⠐⢀⠀⠨⠐⠀⠀⠂⠀⠂⠁⠜⠉⠂⠀⠈⠙⢄⠇⠀⠐⠁⠀⠘⠐⠀⠀⠀⠀⠂\n",
       "⠯⡦⢄⡠⠄⡠⠆⠀⠠⠠⠄⠀⠀⠤⠀⠀⠀⠀⠀⠀⠄⠠⠂⡄⠀⠠⠠⠥⣔⢀⠀⠀⠀⠀⠀⠂⠀⠀⠠⠆\n",
       "⣹⣻⣣⡁⠠⡀⡃⠁⠀⢀⢠⠠⡀⢈⢨⠀⠀⠤⠄⡰⡃⣂⢀⠉⢚⠂⠁⣐⣇⠈⡑⣄⡀⠀⠁⠁⠀⡁⡀⠀\n",
       "⠤⡽⡇⠂⠀⠄⠅⠀⠀⠀⠀⢀⠀⢄⢠⠠⠀⠄⠀⢕⠆⠀⠀⡅⠴⠀⠄⠀⠭⠀⠀⠈⠁⢁⡀⠀⠀⠁⠀⠀\n",
       "⠈⠼⡇⠀⠀⠀⠅⠀⠀⠐⠀⠀⠁⠈⠸⠈⠀⠀⠀⢠⠀⠀⠘⠒⠐⠀⠄⠀⠁⠀⠀⠀⠀⠘⠛⣤⡄⠁⠀⠀\n",
       "⠄⠈⠥⠄⠀⠀⠀⠀⠀⠀⠀⠀⠀⠀⠀⠀⠀⠀⠀⠈⠀⠀⠠⠄⠀⠀⠠⠀⠉⠀⠄⠀⠀⠠⠀⠉⠇⡄⠀⠀\n",
       "⢇⢨⢣⠠⠨⠄⠆⠀⠐⠪⠀⠀⠀⢠⠠⠀⠀⠀⠀⠐⠀⠠⠀⠁⠀⠀⠀⠀⠂⠀⠀⠀⠀⠐⠀⠀⠀⠀⠑⣆"
      ]
     },
     "execution_count": 2,
     "metadata": {},
     "output_type": "execute_result"
    }
   ],
   "source": [
    "vars = load(\"roswelladj.jld2\")       # get from the book's website\n",
    "i = vars[\"i\"];  j = vars[\"j\"];\n",
    "A = sparse(i,j,fill(1.0,size(i)),2790,2790)"
   ]
  },
  {
   "cell_type": "markdown",
   "metadata": {},
   "source": [
    "We may define the density of $\\mathbf{A}$ as the number of nonzeros divided by the total number of entries."
   ]
  },
  {
   "cell_type": "code",
   "execution_count": 3,
   "metadata": {},
   "outputs": [
    {
     "name": "stdout",
     "output_type": "stream",
     "text": [
      "density = nnz(A) / (m * n) = 0.0010902994565845762\n"
     ]
    }
   ],
   "source": [
    "m,n = size(A)\n",
    "@show density = nnz(A) / (m*n);"
   ]
  },
  {
   "cell_type": "markdown",
   "metadata": {},
   "source": [
    "The computer memory consumed by any variable can be discovered using `varinfo`."
   ]
  },
  {
   "cell_type": "code",
   "execution_count": 4,
   "metadata": {},
   "outputs": [
    {
     "data": {
      "text/latex": [
       "\\begin{tabular}\n",
       "{l | r | l}\n",
       "name & size & summary \\\\\n",
       "\\hline\n",
       "A & 110.516 KiB & 2790×2790 SparseMatrixCSC\\{Float64, Int32\\} \\\\\n",
       "\\end{tabular}\n"
      ],
      "text/markdown": [
       "| name |        size | summary                                   |\n",
       "|:---- | -----------:|:----------------------------------------- |\n",
       "| A    | 110.516 KiB | 2790×2790 SparseMatrixCSC{Float64, Int32} |\n"
      ],
      "text/plain": [
       "  name        size summary                                  \n",
       "  –––– ––––––––––– –––––––––––––––––––––––––––––––––––––––––\n",
       "  A    110.516 KiB 2790×2790 SparseMatrixCSC{Float64, Int32}"
      ]
     },
     "execution_count": 4,
     "metadata": {},
     "output_type": "execute_result"
    }
   ],
   "source": [
    "varinfo(r\"A\")"
   ]
  },
  {
   "cell_type": "markdown",
   "metadata": {},
   "source": [
    "We can compare this to the storage space needed for its dense counterpart, that is, the space needed to store all the elements, whether zero or not."
   ]
  },
  {
   "cell_type": "code",
   "execution_count": 5,
   "metadata": {},
   "outputs": [
    {
     "data": {
      "text/latex": [
       "\\begin{tabular}\n",
       "{l | r | l}\n",
       "name & size & summary \\\\\n",
       "\\hline\n",
       "F & 59.388 MiB & 2790×2790 Matrix\\{Float64\\} \\\\\n",
       "\\end{tabular}\n"
      ],
      "text/markdown": [
       "| name |       size | summary                   |\n",
       "|:---- | ----------:|:------------------------- |\n",
       "| F    | 59.388 MiB | 2790×2790 Matrix{Float64} |\n"
      ],
      "text/plain": [
       "  name       size summary                  \n",
       "  –––– –––––––––– –––––––––––––––––––––––––\n",
       "  F    59.388 MiB 2790×2790 Matrix{Float64}"
      ]
     },
     "execution_count": 5,
     "metadata": {},
     "output_type": "execute_result"
    }
   ],
   "source": [
    "F = Matrix(A)\n",
    "varinfo(r\"F\")"
   ]
  },
  {
   "cell_type": "markdown",
   "metadata": {},
   "source": [
    "The ratio of storage spaces is dramatic."
   ]
  },
  {
   "cell_type": "code",
   "execution_count": 6,
   "metadata": {},
   "outputs": [
    {
     "name": "stdout",
     "output_type": "stream",
     "text": [
      "storageratio = 5.9e7 / 110000.0 = 536.3636363636364\n"
     ]
    }
   ],
   "source": [
    "@show storageratio = 59e6 / 110e3;"
   ]
  },
  {
   "cell_type": "markdown",
   "metadata": {},
   "source": [
    "Matrix-vector products are also much faster using the sparse form, because operations with structural zeros are skipped."
   ]
  },
  {
   "cell_type": "code",
   "execution_count": 7,
   "metadata": {},
   "outputs": [
    {
     "data": {
      "text/plain": [
       "0.004764324"
      ]
     },
     "execution_count": 7,
     "metadata": {},
     "output_type": "execute_result"
    }
   ],
   "source": [
    "x = randn(n)\n",
    "A*x;   # make sure * is loaded and compiled\n",
    "@elapsed for i = 1:300; A*x; end"
   ]
  },
  {
   "cell_type": "code",
   "execution_count": 8,
   "metadata": {},
   "outputs": [
    {
     "data": {
      "text/plain": [
       "0.88615396"
      ]
     },
     "execution_count": 8,
     "metadata": {},
     "output_type": "execute_result"
    }
   ],
   "source": [
    "F*x;\n",
    "@elapsed for i = 1:300; F*x; end"
   ]
  }
 ],
 "metadata": {
  "kernelspec": {
   "display_name": "Julia 1.6.0-rc1",
   "language": "julia",
   "name": "julia-1.6"
  },
  "language_info": {
   "file_extension": ".jl",
   "mimetype": "application/julia",
   "name": "julia",
   "version": "1.6.0"
  }
 },
 "nbformat": 4,
 "nbformat_minor": 4
}
