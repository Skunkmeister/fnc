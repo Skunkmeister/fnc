{
 "cells": [
  {
   "cell_type": "markdown",
   "metadata": {},
   "source": [
    "# Powers of a matrix"
   ]
  },
  {
   "cell_type": "code",
   "execution_count": 1,
   "metadata": {},
   "outputs": [],
   "source": [
    "using FundamentalsNumericalComputation"
   ]
  },
  {
   "cell_type": "markdown",
   "metadata": {},
   "source": [
    "Here we choose a random 5×5 matrix and a random 5-vector."
   ]
  },
  {
   "cell_type": "code",
   "execution_count": 2,
   "metadata": {},
   "outputs": [
    {
     "data": {
      "text/plain": [
       "5×5 Matrix{Float64}:\n",
       " 0.222222   0.171429  0.047619   0.0869565  0.333333\n",
       " 0.0740741  0.228571  0.0952381  0.304348   0.0416667\n",
       " 0.333333   0.228571  0.380952   0.217391   0.208333\n",
       " 0.296296   0.142857  0.428571   0.304348   0.0833333\n",
       " 0.0740741  0.228571  0.047619   0.0869565  0.333333"
      ]
     },
     "execution_count": 2,
     "metadata": {},
     "output_type": "execute_result"
    }
   ],
   "source": [
    "A = rand(1.:9.,5,5)\n",
    "A = A./sum(A,dims=1)"
   ]
  },
  {
   "cell_type": "code",
   "execution_count": 3,
   "metadata": {},
   "outputs": [
    {
     "data": {
      "text/plain": [
       "5-element Vector{Float64}:\n",
       " -0.6805999015254325\n",
       "  1.0600752735513257\n",
       " -1.6978967901800188\n",
       "  0.6837697777910685\n",
       " -0.5220918999936016"
      ]
     },
     "execution_count": 3,
     "metadata": {},
     "output_type": "execute_result"
    }
   ],
   "source": [
    "x = randn(5)"
   ]
  },
  {
   "cell_type": "markdown",
   "metadata": {},
   "source": [
    "Applying matrix-vector multiplication once doesn't do anything recognizable."
   ]
  },
  {
   "cell_type": "code",
   "execution_count": 4,
   "metadata": {},
   "outputs": [
    {
     "data": {
      "text/plain": [
       "5-element Vector{Float64}:\n",
       " -0.16494185269751288\n",
       "  0.2165336721891242\n",
       " -0.5915050809677965\n",
       " -0.6132937711409839\n",
       " -0.003536507739489464"
      ]
     },
     "execution_count": 4,
     "metadata": {},
     "output_type": "execute_result"
    }
   ],
   "source": [
    "y = A*x"
   ]
  },
  {
   "cell_type": "markdown",
   "metadata": {},
   "source": [
    "Repeating the multiplication still doesn't do anything obvious."
   ]
  },
  {
   "cell_type": "code",
   "execution_count": 5,
   "metadata": {},
   "outputs": [
    {
     "data": {
      "text/plain": [
       "5-element Vector{Float64}:\n",
       " -0.08220932462769913\n",
       " -0.2058603019521486\n",
       " -0.3648839810223276\n",
       " -0.45838979085256665\n",
       " -0.04540014190191658"
      ]
     },
     "execution_count": 5,
     "metadata": {},
     "output_type": "execute_result"
    }
   ],
   "source": [
    "z = A*y"
   ]
  },
  {
   "cell_type": "markdown",
   "metadata": {},
   "source": [
    "But if we keep repeating the matrix-vector multiplication, something remarkable happens: $\\mathbf{A} \\mathbf{x} \\approx \\mathbf{x}$."
   ]
  },
  {
   "cell_type": "code",
   "execution_count": 6,
   "metadata": {},
   "outputs": [
    {
     "data": {
      "text/plain": [
       "5×2 Matrix{Float64}:\n",
       " -0.163824  -0.163392\n",
       " -0.192329  -0.192405\n",
       " -0.32398   -0.324235\n",
       " -0.325851  -0.3266\n",
       " -0.150759  -0.150112"
      ]
     },
     "execution_count": 6,
     "metadata": {},
     "output_type": "execute_result"
    }
   ],
   "source": [
    "for j = 1:6;  x = A*x;  end\n",
    "[x A*x]"
   ]
  },
  {
   "cell_type": "markdown",
   "metadata": {},
   "source": [
    "This phenomenon seems to occur regardless of the starting vector."
   ]
  },
  {
   "cell_type": "code",
   "execution_count": 7,
   "metadata": {},
   "outputs": [
    {
     "data": {
      "text/plain": [
       "5×2 Matrix{Float64}:\n",
       " -0.306406  -0.306437\n",
       " -0.362041  -0.362006\n",
       " -0.609024  -0.609028\n",
       " -0.613827  -0.61381\n",
       " -0.281715  -0.281731"
      ]
     },
     "execution_count": 7,
     "metadata": {},
     "output_type": "execute_result"
    }
   ],
   "source": [
    "x = randn(5)\n",
    "for j = 1:8;  x = A*x;  end\n",
    "[x A*x]"
   ]
  }
 ],
 "metadata": {
  "kernelspec": {
   "display_name": "Julia 1.6.0-rc1",
   "language": "julia",
   "name": "julia-1.6"
  },
  "language_info": {
   "file_extension": ".jl",
   "mimetype": "application/julia",
   "name": "julia",
   "version": "1.6.0"
  }
 },
 "nbformat": 4,
 "nbformat_minor": 4
}
