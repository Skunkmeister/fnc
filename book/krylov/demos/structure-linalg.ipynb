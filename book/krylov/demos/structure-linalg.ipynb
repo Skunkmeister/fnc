{
 "cells": [
  {
   "cell_type": "markdown",
   "metadata": {},
   "source": [
    "# Linear algebra for sparse matrices"
   ]
  },
  {
   "cell_type": "code",
   "execution_count": 1,
   "metadata": {
    "scrolled": true
   },
   "outputs": [],
   "source": [
    "using FundamentalsNumericalComputation"
   ]
  },
  {
   "cell_type": "markdown",
   "metadata": {},
   "source": [
    "The following generates a random sparse matrix with prescribed eigenvalues."
   ]
  },
  {
   "cell_type": "code",
   "execution_count": 2,
   "metadata": {},
   "outputs": [
    {
     "data": {
      "text/plain": [
       "4000×4000 SparseMatrixCSC{Float64, Int64} with 6400 stored entries:\n",
       "⠿⢇⠦⠆⠄⠀⠔⠤⡀⠀⡀⠅⢄⠠⣂⠀⠾⡑⢲⡀⠆⠄⡀⢄⠀⡔⠴⠂⢠⠄⡅⡠⡀⣄⡂⠏⣄⡐⢰⠄\n",
       "⠨⠇⡑⣬⡨⡔⠩⢨⠂⠉⣆⡀⡁⡅⢂⢁⠝⠠⠌⢄⢑⠄⠠⠙⢺⣩⡦⢋⢬⡀⡂⣤⡠⠆⢅⢺⠈⡀⠄⡄\n",
       "⠀⠁⢂⠮⡱⢎⠉⢀⠈⢃⡀⠀⠰⡩⢊⢊⢻⡈⠍⠗⢠⠞⠗⢉⢊⢐⠊⠓⠤⠂⠅⢤⠐⠋⠆⢊⠐⡏⠫⠂\n",
       "⠐⡅⡃⣂⠃⢀⢵⢗⠋⠚⡆⡑⡸⠁⣀⠀⠢⠢⡳⠒⠊⠆⠀⡘⢒⣎⢔⢖⡈⠾⡂⠠⣑⢀⣆⡔⢀⢃⡢⣐\n",
       "⠀⠈⡌⠀⠦⢀⣫⠀⠕⢅⠑⠡⢀⠡⢐⢄⣅⠠⠰⢠⠀⢁⠠⠠⣁⠀⡰⣀⢁⠂⠀⠊⠠⠨⠡⠀⠎⠳⢈⠦\n",
       "⠄⠌⠈⠹⠀⠈⢌⠩⠕⡀⡛⢌⠦⠊⠠⣩⠣⡃⠰⠡⠯⠀⠈⠅⡁⣠⢠⣍⠠⢆⠅⣪⠥⢡⠽⢄⢘⢠⠃⡅\n",
       "⠀⡑⠅⠬⡔⡢⠖⠊⠄⡐⡨⠃⣑⢜⣛⢄⣚⢌⠀⢐⡓⣬⡄⡅⢌⠣⠀⢠⠕⠎⠑⠀⢋⡀⢘⢨⠍⢆⡁⡛\n",
       "⠈⠘⠌⢐⡪⢐⠀⠘⠐⢔⡄⣢⠛⢜⠛⢄⡒⠀⠊⠔⣐⠆⠐⠂⢠⠇⠘⢀⠂⠁⢓⠅⠋⣅⢆⡺⠲⠧⡌⠀\n",
       "⢞⠣⠓⡁⡛⠲⠨⡂⠁⡙⠭⠢⡚⢜⠘⠈⡛⢌⡓⡂⢃⢂⠊⠻⢤⠒⣁⠛⣈⡥⠄⠘⡐⠀⢄⢦⠠⢜⢚⡁\n",
       "⠘⠲⠂⢅⢧⠅⢹⠊⠐⣂⠔⡂⢀⢀⢊⠄⠹⠨⣑⣼⢊⠆⢈⠩⣁⠊⡈⢁⡄⠀⡃⠀⣩⣔⠤⣠⢂⠊⠨⢅\n",
       "⠈⠅⠑⠔⣠⠖⠪⠄⠄⢀⠋⠃⡙⣬⠰⠜⠩⢐⠪⠔⠱⣦⢺⠐⢂⢀⠀⠘⡊⠌⡇⢘⠓⡿⠶⠘⢊⣀⣁⡃\n",
       "⠀⢌⣄⠂⡝⢁⣀⠠⠀⡂⠆⠄⠄⠭⠰⠀⣮⡀⡆⡐⢚⠒⣕⣽⡠⠀⣄⡠⢌⠀⠢⠑⠀⠃⠁⠔⠀⣑⣕⡆\n",
       "⢀⠤⡞⣲⢊⢐⡸⢴⠁⠘⠁⣨⠦⡑⠤⠖⢠⠓⡡⠘⠈⢐⠀⠊⠛⢄⡀⠩⠌⢁⠍⣤⢜⠥⢤⣔⠣⠦⢀⡇\n",
       "⠰⠃⡬⢋⢮⠀⢰⢕⠐⢪⡄⢶⠀⣀⠒⢀⣥⠘⠆⢈⣀⠀⠀⡹⡄⡈⣑⣼⡡⢁⣐⠂⢲⡀⢔⠀⠛⠃⡨⠀\n",
       "⠀⠖⠂⠳⠠⠃⣢⡌⠡⠐⠠⢆⡱⠅⠌⠀⠆⡼⠀⠉⡊⠌⠂⠑⠆⢁⠅⢊⡑⣬⣹⠚⢁⣈⢇⢻⠋⠛⠀⢌\n",
       "⠁⡩⠈⣬⠁⣅⠈⡈⡠⠀⡡⣡⠑⠀⠝⠔⣀⠁⠉⠈⣉⢉⢌⠂⠃⣥⠰⠘⣳⠚⡱⣮⡅⠁⣠⡈⡟⠀⣃⠒\n",
       "⠀⢬⠠⠎⡴⠀⠑⢘⡀⡂⠅⣃⠋⠰⠏⢤⠐⠈⢃⢾⣽⡤⠤⠀⠖⡕⠘⠲⡁⢰⠅⠉⠿⢇⠟⢢⠩⢄⢒⠀\n",
       "⡬⠌⣡⣑⡨⢁⢈⠽⠁⠂⠓⢇⡒⣐⣨⡱⠠⣕⠀⣣⣘⠃⢁⠄⢀⢷⠐⠑⣭⣑⡀⠺⠻⣁⠻⢆⡁⡀⡂⡚\n",
       "⢀⠹⠂⠠⡴⠤⠤⢐⢮⡁⠒⣐⠣⢅⠼⡆⣀⢆⡨⠐⠊⢰⢄⢠⠩⡆⠿⠀⣯⠀⠛⠉⠃⢆⠁⠨⡛⢌⠀⡀\n",
       "⠐⠖⠀⠥⠫⠂⢈⢪⠢⡔⠍⠤⣥⠨⠂⠉⠞⠰⠆⢆⠥⠸⠱⠽⠤⠴⠂⠊⡀⢄⢩⠘⠘⠐⣨⠨⠀⠠⡑⢌"
      ]
     },
     "execution_count": 2,
     "metadata": {},
     "output_type": "execute_result"
    }
   ],
   "source": [
    "n = 4000\n",
    "density = 4e-4\n",
    "λ = @. 1 + 1/(1:n)   # exact eigenvalues\n",
    "A = FNC.sprandsym(n,density,λ)"
   ]
  },
  {
   "cell_type": "markdown",
   "metadata": {},
   "source": [
    "The `eigs` function finds a small number eigenvalues meeting some criterion. First, we ask for the 5 of largest (complex) magnitude using `which=:LM`."
   ]
  },
  {
   "cell_type": "code",
   "execution_count": 3,
   "metadata": {},
   "outputs": [
    {
     "name": "stdout",
     "output_type": "stream",
     "text": [
      "┌──────────────────────┬──────────────────────┐\n",
      "│\u001b[1m                found \u001b[0m│\u001b[1m                exact \u001b[0m│\n",
      "├──────────────────────┼──────────────────────┤\n",
      "│    2.000000000000000 │    2.000000000000000 │\n",
      "│    1.500000000000002 │    1.500000000000000 │\n",
      "│    1.333333333333336 │    1.333333333333333 │\n",
      "│    1.250000000000006 │    1.250000000000000 │\n",
      "│    1.200000000000001 │    1.200000000000000 │\n",
      "└──────────────────────┴──────────────────────┘\n"
     ]
    }
   ],
   "source": [
    "λmax,V = eigs(A,nev=5,which=:LM)    # largest magnitude\n",
    "pretty_table( (found=λmax,exact=λ[1:5]), formatters = ft_printf(\"%20.15f\"), nosubheader=true )"
   ]
  },
  {
   "cell_type": "markdown",
   "metadata": {},
   "source": [
    "Now we find the 5 closest to the value 1 in the complex plane, via `sigma=1`. "
   ]
  },
  {
   "cell_type": "code",
   "execution_count": 4,
   "metadata": {},
   "outputs": [
    {
     "name": "stdout",
     "output_type": "stream",
     "text": [
      "┌──────────────────────┬──────────────────────┐\n",
      "│\u001b[1m                found \u001b[0m│\u001b[1m                exact \u001b[0m│\n",
      "├──────────────────────┼──────────────────────┤\n",
      "│    1.000250000000000 │    1.000250000000000 │\n",
      "│    1.000250062515629 │    1.000250062515629 │\n",
      "│    1.000250125062531 │    1.000250125062531 │\n",
      "│    1.000250187640731 │    1.000250187640731 │\n",
      "│    1.000250250250250 │    1.000250250250250 │\n",
      "└──────────────────────┴──────────────────────┘\n"
     ]
    }
   ],
   "source": [
    "λ1,V = eigs(A,nev=5,sigma=1)    # largest magnitude\n",
    "pretty_table( (found=λ1,exact=λ[end:-1:end-4]), formatters = ft_printf(\"%20.15f\"), nosubheader=true )"
   ]
  },
  {
   "cell_type": "markdown",
   "metadata": {},
   "source": [
    "The scaling of time to solve a sparse linear system is not easy to predict unless you have some more information about the matrix, such as bandedness. But it will typically be orders of magnitude faster than the dense version of the same problem."
   ]
  },
  {
   "cell_type": "code",
   "execution_count": 5,
   "metadata": {},
   "outputs": [],
   "source": [
    "x = @. 1/(1:n);  b = A*x;\n",
    "norm(x - A\\b);  # force compilation"
   ]
  },
  {
   "cell_type": "code",
   "execution_count": 6,
   "metadata": {},
   "outputs": [
    {
     "name": "stdout",
     "output_type": "stream",
     "text": [
      "Time for sparse solve:\n"
     ]
    },
    {
     "data": {
      "text/plain": [
       "0.001106034"
      ]
     },
     "execution_count": 6,
     "metadata": {},
     "output_type": "execute_result"
    }
   ],
   "source": [
    "println(\"Time for sparse solve:\")\n",
    "@elapsed sparse_err = norm(x - A\\b)"
   ]
  },
  {
   "cell_type": "code",
   "execution_count": 7,
   "metadata": {},
   "outputs": [],
   "source": [
    "D = Matrix(A)  # convert to regular matrix\n",
    "D\\b;  # force compilation"
   ]
  },
  {
   "cell_type": "code",
   "execution_count": 8,
   "metadata": {},
   "outputs": [
    {
     "name": "stdout",
     "output_type": "stream",
     "text": [
      "Time for dense solve:\n"
     ]
    },
    {
     "data": {
      "text/plain": [
       "0.194456141"
      ]
     },
     "execution_count": 8,
     "metadata": {},
     "output_type": "execute_result"
    }
   ],
   "source": [
    "println(\"Time for dense solve:\")\n",
    "@elapsed dense_err = norm(x - D\\b)"
   ]
  },
  {
   "cell_type": "code",
   "execution_count": 9,
   "metadata": {},
   "outputs": [
    {
     "name": "stdout",
     "output_type": "stream",
     "text": [
      "(sparse_err, dense_err) = (8.480374070953919e-18, 1.8572797776554836e-17)\n"
     ]
    }
   ],
   "source": [
    "@show sparse_err,dense_err;"
   ]
  }
 ],
 "metadata": {
  "kernelspec": {
   "display_name": "Julia 1.6.0-rc1",
   "language": "julia",
   "name": "julia-1.6"
  },
  "language_info": {
   "file_extension": ".jl",
   "mimetype": "application/julia",
   "name": "julia",
   "version": "1.6.0"
  }
 },
 "nbformat": 4,
 "nbformat_minor": 4
}
