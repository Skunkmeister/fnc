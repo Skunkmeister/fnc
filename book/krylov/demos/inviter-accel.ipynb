{
 "cells": [
  {
   "cell_type": "markdown",
   "metadata": {},
   "source": [
    "# Accelerated inverse iteration"
   ]
  },
  {
   "cell_type": "code",
   "execution_count": 1,
   "metadata": {},
   "outputs": [],
   "source": [
    "using FundamentalsNumericalComputation"
   ]
  },
  {
   "cell_type": "code",
   "execution_count": 2,
   "metadata": {},
   "outputs": [
    {
     "data": {
      "text/plain": [
       "5×5 Matrix{Float64}:\n",
       " 1.0   1.0   1.0   1.0  1.0\n",
       " 0.0  -0.75  1.0   1.0  1.0\n",
       " 0.0   0.0   0.6   1.0  1.0\n",
       " 0.0   0.0   0.0  -0.4  1.0\n",
       " 0.0   0.0   0.0   0.0  0.0"
      ]
     },
     "execution_count": 2,
     "metadata": {},
     "output_type": "execute_result"
    }
   ],
   "source": [
    "λ = [1,-0.75,0.6,-0.4,0]\n",
    "A = triu(ones(5,5),1) + diagm(λ)   # triangular matrix, eigs on diagonal"
   ]
  },
  {
   "cell_type": "markdown",
   "metadata": {},
   "source": [
    "We begin with a shift $s=0.7$, which is closest to the eigenvalue 0.6."
   ]
  },
  {
   "cell_type": "code",
   "execution_count": 3,
   "metadata": {},
   "outputs": [
    {
     "data": {
      "text/plain": [
       "0.7034813925570228"
      ]
     },
     "execution_count": 3,
     "metadata": {},
     "output_type": "execute_result"
    }
   ],
   "source": [
    "s = 0.7\n",
    "x = ones(5)\n",
    "y = (A-s*I)\\x\n",
    "γ = x[1]/y[1] + s"
   ]
  },
  {
   "cell_type": "markdown",
   "metadata": {},
   "source": [
    "Note that the result is not yet any closer to the targeted 0.6. But we proceed (without being too picky about normalization here)."
   ]
  },
  {
   "cell_type": "code",
   "execution_count": 4,
   "metadata": {},
   "outputs": [
    {
     "data": {
      "text/plain": [
       "0.5612761406172997"
      ]
     },
     "execution_count": 4,
     "metadata": {},
     "output_type": "execute_result"
    }
   ],
   "source": [
    "s = γ\n",
    "x = y/y[1]\n",
    "y = (A-s*I)\\x\n",
    "γ = x[1]/y[1] + s"
   ]
  },
  {
   "cell_type": "markdown",
   "metadata": {},
   "source": [
    "Still not much apparent progress. However, in just a few more iterations the results are dramatically better."
   ]
  },
  {
   "cell_type": "code",
   "execution_count": 5,
   "metadata": {},
   "outputs": [
    {
     "name": "stdout",
     "output_type": "stream",
     "text": [
      "γ = x[1] / y[1] + s = 0.5964312884753865\n",
      "γ = x[1] / y[1] + s = 0.5999717091820104\n",
      "γ = x[1] / y[1] + s = 0.5999999978556353\n",
      "γ = x[1] / y[1] + s = 0.6\n"
     ]
    }
   ],
   "source": [
    "for k = 1:4\n",
    "    s = γ  \n",
    "    x = y/y[1]\n",
    "    y = (A-s*I)\\x  \n",
    "    @show γ = x[1]/y[1] + s\n",
    "end"
   ]
  }
 ],
 "metadata": {
  "kernelspec": {
   "display_name": "Julia 1.6.0-rc1",
   "language": "julia",
   "name": "julia-1.6"
  },
  "language_info": {
   "file_extension": ".jl",
   "mimetype": "application/julia",
   "name": "julia",
   "version": "1.6.0"
  }
 },
 "nbformat": 4,
 "nbformat_minor": 4
}
